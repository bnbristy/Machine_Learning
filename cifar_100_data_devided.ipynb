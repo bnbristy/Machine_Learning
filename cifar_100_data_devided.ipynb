{
 "cells": [
  {
   "cell_type": "code",
   "execution_count": 12,
   "metadata": {},
   "outputs": [],
   "source": [
    "import csv\n",
    "import sys\n",
    "import os\n",
    "import pickle\n",
    "import numpy as np\n",
    "import pandas as pd\n",
    "import tqdm as tqdm\n",
    "import imageio\n",
    "from PIL import Image"
   ]
  },
  {
   "cell_type": "code",
   "execution_count": 13,
   "metadata": {},
   "outputs": [],
   "source": [
    "# Level sorting for household funiture and electrical devices , tree\n",
    "CIFAR100_FIND_Household_LABLES = [\"clock\",\"computer\",\"keyboard\",\"lamp\",\"telephone\",\"television\",\"bed\",\"chair\",\"couch\",\"table\",\"wardrobe\"]\n",
    "CIFAR100_FIND_Tree1_LABLES = [\"maple_tree\",\"oak_tree\",\"palm_tree\"]\n",
    "CIFAR100_Householld_dic = {\"clock\":\"clock\",\"computer\":\"computer\",\"keyboard\":\"keyboard\",\"lamp\":\"lamp\",\"telephone\":\"telephone\",\"television\":\"television\",\"bed\":\"bed\",\"chair\":\"chair\",\"couch\":\"couch\",\"table\":\"table\",\"wardrobe\":\"wardrobe\",   }\n",
    "CIFAR100_Tree1_dic ={\"maple_tree\":\"maple_tree\",\"oak_tree\":\"oak_tree\",\"palm_tree\":\"palm_tree\"}"
   ]
  },
  {
   "cell_type": "code",
   "execution_count": 14,
   "metadata": {},
   "outputs": [],
   "source": [
    "def get_labels(dic_files):\n",
    "    labels = [key for key in dic_files.keys()]\n",
    "    labels.sort()\n",
    "    return labels\n",
    "\n",
    "def unpickle(file):\n",
    "    \"\"\"unpickle file into a dictornary\"\"\"\n",
    "    with open(file,'rb') as fo:\n",
    "        res = pickle.load(fo,encoding='bytes')\n",
    "    return res\n",
    "\n",
    "def cifar2rgb(line):\n",
    "    return Image.fromarray(np.transpose(np.reshape(line,[32,32,3],order='F'),[1,0,2]))"
   ]
  },
  {
   "cell_type": "code",
   "execution_count": 15,
   "metadata": {},
   "outputs": [],
   "source": [
    "def cifar100(dest,dictonary,labels):\n",
    "    current_dir=os.path.abspath(os.getcwd())\n",
    "    for label in labels:\n",
    "        os.mkdir(dest + '/' + dictonary[label])\n",
    "        \n",
    "    counters = { label:1 for label in labels}\n",
    "    \n",
    "    #meta file unpickle\n",
    "    meta_dic = unpickle(current_dir + '/meta')\n",
    "    fine_labels = meta_dic[b'fine_label_names']\n",
    "    coarse_labels = meta_dic[b'coarse_label_names']\n",
    "    \n",
    "    #train file unpickle\n",
    "    batch = unpickle(os.path.abspath(os.getcwd()) + '/train')\n",
    "    \n",
    "    for idx, line in enumerate(batch[b'data']):\n",
    "        fine_label = fine_labels[batch[b'fine_labels'][idx]].decode('utf8')\n",
    "        coarse_label = coarse_labels[batch[b'coarse_labels'][idx]]\n",
    "        \n",
    "        is_fine = fine_label in labels\n",
    "        if is_fine:\n",
    "            image = cifar2rgb(line)\n",
    "            label = fine_label if is_fine else coarse_label\n",
    "            image.save(dest + \"/\" + dictonary[label] + \"/\" + str(counters[label]) + \".png\")\n",
    "            counters[label] += 1"
   ]
  },
  {
   "cell_type": "code",
   "execution_count": 16,
   "metadata": {},
   "outputs": [],
   "source": [
    "def write_csv(dest,filename,dictonary,labels):\n",
    "    \"\"\"Writes the filename.csv file, reading dest content that\"\"\"\n",
    "    with open( filename + \".csv\", \"w+\") as csv_file:\n",
    "        writer = csv.DictWriter(csv_file, [\"file\", \"label\"])\n",
    "        writer.writeheader()\n",
    "\n",
    "        for label in get_labels(dictonary):\n",
    "            hosuehold_label = dictonary[label]\n",
    "            label_id = labels.index(hosuehold_label)\n",
    "\n",
    "            path = dest + \"/\" + hosuehold_label + \"/\"\n",
    "            images_count = len(next(os.walk(path))[2]) + 1\n",
    "            for image in range(1, images_count):\n",
    "                relative_path = \"DataSet/\" + hosuehold_label + \"/\" + str(image) + \".png\"\n",
    "                writer.writerow({\"file\": relative_path, \"label\": hosuehold_label})"
   ]
  },
  {
   "cell_type": "code",
   "execution_count": 17,
   "metadata": {},
   "outputs": [],
   "source": [
    "def Household(dest):\n",
    "    filename = 'Test_Household'\n",
    "    cifar100(dest,CIFAR100_Householld_dic,CIFAR100_FIND_Household_LABLES)\n",
    "    write_csv(dest,filename,CIFAR100_Householld_dic,CIFAR100_FIND_Household_LABLES)\n",
    "    \n",
    "def Tree_1(dest):\n",
    "    filename = 'Test_Tree'\n",
    "    cifar100(dest,CIFAR100_Tree1_dic,CIFAR100_FIND_Tree1_LABLES)\n",
    "    write_csv(dest,filename,CIFAR100_Tree1_dic,CIFAR100_FIND_Tree1_LABLES)\n"
   ]
  },
  {
   "cell_type": "code",
   "execution_count": 18,
   "metadata": {},
   "outputs": [],
   "source": [
    "def main():\n",
    "    current_dir = os.path.abspath(os.getcwd())\n",
    "    dest = current_dir + \"/DataSet\"\n",
    "    if not os.path.exists(dest):\n",
    "        os.mkdir(dest)\n",
    "        Household(dest)\n",
    "        Tree_1(dest)   \n",
    "    else:\n",
    "        print(\"DateSet already built. Exit\")"
   ]
  },
  {
   "cell_type": "code",
   "execution_count": 19,
   "metadata": {},
   "outputs": [],
   "source": [
    "if __name__ == '__main__':\n",
    "    main()"
   ]
  },
  {
   "cell_type": "code",
   "execution_count": null,
   "metadata": {},
   "outputs": [],
   "source": []
  }
 ],
 "metadata": {
  "kernelspec": {
   "display_name": "Python 3",
   "language": "python",
   "name": "python3"
  },
  "language_info": {
   "codemirror_mode": {
    "name": "ipython",
    "version": 3
   },
   "file_extension": ".py",
   "mimetype": "text/x-python",
   "name": "python",
   "nbconvert_exporter": "python",
   "pygments_lexer": "ipython3",
   "version": "3.6.4"
  }
 },
 "nbformat": 4,
 "nbformat_minor": 4
}
